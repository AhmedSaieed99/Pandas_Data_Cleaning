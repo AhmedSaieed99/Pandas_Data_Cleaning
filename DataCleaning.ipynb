{
 "cells": [
  {
   "cell_type": "code",
   "execution_count": 366,
   "id": "511adcce-f888-442f-a275-483de530bc23",
   "metadata": {},
   "outputs": [],
   "source": [
    "import pandas as pd\n",
    "\n",
    "#below code to get rid of an error(ignore)\n",
    "pd.options.mode.chained_assignment = None  # default='warn'\n",
    "\n",
    "df = pd.read_excel(r'C:\\Users\\Ahmed\\Downloads\\Customer Call List.xlsx')"
   ]
  },
  {
   "cell_type": "code",
   "execution_count": 345,
   "id": "0dcbbdf9-f722-400f-a42d-e0ef414d282f",
   "metadata": {},
   "outputs": [],
   "source": [
    "df = df.drop_duplicates()"
   ]
  },
  {
   "cell_type": "code",
   "execution_count": 367,
   "id": "35995b6d-431c-420a-a001-1843e7643420",
   "metadata": {},
   "outputs": [],
   "source": [
    "df = df.drop(columns = \"Not_Useful_Column\")"
   ]
  },
  {
   "cell_type": "code",
   "execution_count": 368,
   "id": "f7d12723-68d5-419c-ae32-88859ae06094",
   "metadata": {},
   "outputs": [],
   "source": [
    "df[\"Last_Name\"] = df[\"Last_Name\"].str.strip(\"._/\")"
   ]
  },
  {
   "cell_type": "code",
   "execution_count": 369,
   "id": "4420ff48-1dee-4a8e-9f53-e4fc6e41ad9f",
   "metadata": {},
   "outputs": [],
   "source": [
    "df[\"Phone_Number\"] = df[\"Phone_Number\"].str.replace('[^0-9]','', regex = True)\n",
    "#df[\"Phone_Number\"] = df[\"Phone_Number\"].str.replace('[NaN]','', regex = True)\n",
    "#df[\"Phone_Number\"] = df[\"Phone_Number\"].str.replace('NA','', regex = True)\n",
    "df = df.dropna()\n",
    "df[\"Phone_Number\"] = df[\"Phone_Number\"].apply(lambda x: x[0:3] + ' ' + x[3:6] + ' ' + x[6:10])"
   ]
  },
  {
   "cell_type": "code",
   "execution_count": 370,
   "id": "e3b9a732-13ca-46be-b43d-37c6bca9b4b8",
   "metadata": {},
   "outputs": [],
   "source": [
    "df[[\"Street_Address\", \"State\", \"Zip_Code\"]] = df[\"Address\"].str.split(',', n=2,  expand=True)\n"
   ]
  },
  {
   "cell_type": "code",
   "execution_count": 371,
   "id": "c1b9033f-b341-48b9-909f-ee9abca15274",
   "metadata": {},
   "outputs": [],
   "source": [
    "df[\"Do_Not_Contact\"] = df[\"Do_Not_Contact\"].str.replace('Yes','Y')\n",
    "\n",
    "df[\"Do_Not_Contact\"] = df[\"Do_Not_Contact\"].str.replace('No','N')"
   ]
  },
  {
   "cell_type": "code",
   "execution_count": 372,
   "id": "e85ad7bd-eab4-499c-adc1-c3e6b149fcb1",
   "metadata": {},
   "outputs": [],
   "source": [
    "df[\"Do_Not_Contact\"] = df[\"Do_Not_Contact\"].str.replace('Y','Yes')\n",
    "\n",
    "df[\"Do_Not_Contact\"] = df[\"Do_Not_Contact\"].str.replace('N','No')"
   ]
  },
  {
   "cell_type": "code",
   "execution_count": 373,
   "id": "afe79484-cb79-410e-b953-1b094b70f865",
   "metadata": {},
   "outputs": [],
   "source": [
    "df[\"Street_Address\"] = df[\"Street_Address\"].str.replace('N/a','')"
   ]
  },
  {
   "cell_type": "code",
   "execution_count": 374,
   "id": "3bdc7dca-f0c7-4dce-aea0-172a1f96f5d0",
   "metadata": {},
   "outputs": [],
   "source": [
    "#Replacing None Values to be Empty\n",
    "df=df.fillna('')"
   ]
  },
  {
   "cell_type": "code",
   "execution_count": 375,
   "id": "5df3d295-5a86-45a4-b3bc-aa9830cdd546",
   "metadata": {},
   "outputs": [],
   "source": [
    "df[\"Paying Customer\"] = df[\"Paying Customer\"].str.replace('Yes','Y')\n",
    "df[\"Paying Customer\"] = df[\"Paying Customer\"].str.replace('No','N')\n",
    "df[\"Paying Customer\"] = df[\"Paying Customer\"].str.replace('Y','Yes')\n",
    "df[\"Paying Customer\"] = df[\"Paying Customer\"].str.replace('N','No')"
   ]
  },
  {
   "cell_type": "code",
   "execution_count": null,
   "id": "6b7c6be1-c7e4-42c6-8d92-cd9377546d61",
   "metadata": {},
   "outputs": [],
   "source": []
  }
 ],
 "metadata": {
  "kernelspec": {
   "display_name": "Python 3 (ipykernel)",
   "language": "python",
   "name": "python3"
  },
  "language_info": {
   "codemirror_mode": {
    "name": "ipython",
    "version": 3
   },
   "file_extension": ".py",
   "mimetype": "text/x-python",
   "name": "python",
   "nbconvert_exporter": "python",
   "pygments_lexer": "ipython3",
   "version": "3.11.7"
  }
 },
 "nbformat": 4,
 "nbformat_minor": 5
}
